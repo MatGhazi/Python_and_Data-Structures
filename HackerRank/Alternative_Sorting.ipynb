{
 "cells": [
  {
   "cell_type": "markdown",
   "id": "adaee176-5ff4-4052-8543-13b454b7ba64",
   "metadata": {},
   "source": [
    "### Quicksort \n",
    "It usually has a running time of n*log(n), but is there an algorithm that can sort even faster? In general, this is not possible. Most sorting algorithms are comparison sorts, i.e. they sort a list just by comparing the elements to one another. A comparison sort algorithm cannot beat  (worst-case) running time, since  represents the minimum number of comparisons needed to know where to place each element.\n",
    "### Alternative Sorting\n",
    "Another sorting method, the counting sort, does not require comparison. Instead, you create an integer array whose index range covers the entire range of values in your array to sort. Each time a value occurs in the original array, you increment the counter at that index. At the end, run through your counting array, printing the value of each non-zero valued index that number of times."
   ]
  },
  {
   "cell_type": "code",
   "execution_count": null,
   "id": "19e1394d-ab10-4de9-84f6-f68bac7e99ee",
   "metadata": {},
   "outputs": [],
   "source": [
    "def countingSort(arr):\n",
    "    # Write your code here\n",
    "    counter=[0]*100\n",
    "    ready=[]\n",
    "    for i in arr:\n",
    "        counter[i]+=1\n",
    "    # print(counter)\n",
    "    for j in range(len(counter)):\n",
    "        if counter[j]:\n",
    "            fs= [j]*counter[j]\n",
    "            ready+=fs\n",
    "            \n",
    "    return ready\n",
    "if __name__ == '__main__':\n",
    "    # fptr = open(os.environ['OUTPUT_PATH'], 'w')\n",
    "    n = int(input().strip())\n",
    "    arr = list(map(int, input().rstrip().split()))\n",
    "    result = countingSort(arr)\n",
    "    print(' '.join(map(str, result)))\n",
    "    # fptr.write(' '.join(map(str, result)))\n",
    "    # fptr.write('\\n')\n",
    "\n"
   ]
  }
 ],
 "metadata": {
  "kernelspec": {
   "display_name": "env",
   "language": "python",
   "name": "env"
  },
  "language_info": {
   "codemirror_mode": {
    "name": "ipython",
    "version": 3
   },
   "file_extension": ".py",
   "mimetype": "text/x-python",
   "name": "python",
   "nbconvert_exporter": "python",
   "pygments_lexer": "ipython3",
   "version": "3.10.7"
  }
 },
 "nbformat": 4,
 "nbformat_minor": 5
}
